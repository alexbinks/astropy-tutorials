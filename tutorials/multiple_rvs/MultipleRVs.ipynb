{
 "cells": [
  {
   "cell_type": "markdown",
   "id": "2d9a5e47",
   "metadata": {},
   "source": [
    "# Dealing with multiple Radial Velocity measurements"
   ]
  },
  {
   "cell_type": "markdown",
   "id": "80ab7d13",
   "metadata": {},
   "source": [
    "# Authors\n",
    "Alex Binks, Moritz Guenther"
   ]
  },
  {
   "cell_type": "markdown",
   "id": "a10bd8da",
   "metadata": {},
   "source": [
    "# Learning goals\n",
    "- Input/Output: Read an ascii file of tabulated data and output a results file using [astropy.io.ascii](https://docs.astropy.org/en/stable/io/ascii/index.html).\n",
    "- Coding: Produce reusable codes with functions. Apply matrix operations using numpy.\n",
    "- Science: Learn how to detect stars as components of multiple stellar systems through radial velocity (RV) variations and measure error-weighted RVs.\n",
    "- Visualisation: Plot histograms using matplotlib."
   ]
  },
  {
   "cell_type": "markdown",
   "id": "846d3413",
   "metadata": {},
   "source": [
    "# Keywords\n",
    "radial velocity, multiple stars, astropy.io, numpy, matrix operations, error propagation"
   ]
  },
  {
   "cell_type": "markdown",
   "id": "9ef2636c",
   "metadata": {},
   "source": [
    "# Summary\n",
    "It is a common task in astronomy to calculate a final measured quantity (and error) when there are multiple individual measurements for a particular object. If the measurement errors are similar in magnitude, one might choose an error weighted average. In other cases where there are large and small error bar it may be better to simply use the quantity corresponding to the lowest error.\n",
    "\n",
    "This is often the case when dealing with radial velocities (RVs) for stars, which (as the name suggests) measures the velocity in the line-of-sight of the observer (positive value are receeding from the observer). In the era of large spectroscopic surveys such as RAVE, Gaia DR2 (soon to be DR3) and GALAH, correct RV measurements are crucial to properly interpret data for millions of stars. When combined with positions, proper motions (the angular displacement on the sky per year) and distance measurements, a full 6D spatio-kinematic map of the star can be produced. Three examples of how RV measurements can be utilised are:\n",
    "\n",
    "1. Determine membership status for candidate members of comoving clusters and groups.\n",
    "2. Traceback the orbits of stars through the Galaxy\n",
    "3. reveal the large-scale kinematic structure of the Milky Way.\n",
    "\n",
    "We also know that approximately half of all stars belong in multiple systems, and depending on their orbital properties (e.g., physical separation, eccentricity, inclination), their multiplicity status is given away by the fact that the components vary in RV, typically between 1-100 km/s. Whilst obvious temporal changes in RV are a giveaway for identifying multiples, it should be noted there is always some (usually small) probability that multiple systems evade detection because they are observed at the same orbital phase!\n",
    "\n",
    "### With this in mind, the following program:\n",
    "\n",
    "- reads in a table of RV measurements for any set of stars\n",
    "- makes a decision on whether the star is multiple or likely single\n",
    "- calculates a final RV from the individual measurements.\n",
    "\n",
    "### Some points before we begin:\n",
    "\n",
    "1. Table rows consist of a star identifier (that must be exactly the same if multiple entries are present), a reference to the source catalogue, the RV, and the RV error.\n",
    "\n",
    "2. For the cases where no RV error is calculated (tut, tut), for lack of a better method, we have assumed this error to be twice the median error bar from the whole sample of RV measurements. It is the user's discretion whether or not to include data that are missing errors (but sometimes even these measurements have intrinsic value if, say, there are no other measurements).\n",
    "\n",
    "3. The confidence placed in the reliability of each RV measurement is equal regardless of provenance.\n",
    "\n",
    "4. The physical maximum RV difference for an equal mass binary system is $\\Delta RV_{\\rm max} \\geq 437\\times\\frac{\\sqrt{M/M_{\\odot}}}{\\sqrt{a/R_{\\odot}}}$ km/s -- [Bowers & Deeming 1984](https://adswww.harvard.edu/abs/1984astr.book.....B). We discard these RV outiers from analysis when considering the multiplicity status and measuring the final RV."
   ]
  },
  {
   "cell_type": "markdown",
   "id": "458886b8",
   "metadata": {},
   "source": [
    "### Part 1: Reading in the catalogue and pre-cleaning"
   ]
  },
  {
   "cell_type": "markdown",
   "id": "32ac145f",
   "metadata": {},
   "source": [
    "Import python modules"
   ]
  },
  {
   "cell_type": "code",
   "execution_count": 282,
   "id": "afe48f62",
   "metadata": {},
   "outputs": [],
   "source": [
    "from astropy.table import unique, Table\n",
    "from astropy.io import ascii\n",
    "import numpy as np\n",
    "\n",
    "from matplotlib import pylab as plt\n",
    "\n",
    "np.set_printoptions(precision=3, suppress=True)\n",
    "\n",
    "%matplotlib inline"
   ]
  },
  {
   "cell_type": "markdown",
   "id": "1ad9f2af",
   "metadata": {},
   "source": [
    "Read in the input file\n",
    "The minimum requirement is;\n",
    "- name\n",
    "- RV\n",
    "- eRV\n",
    "- reference\n",
    "\n",
    "Currently the following line would read in a basic ascii (space-separated)\n",
    "file, but \"ascii.read\" can take all kinds of formats, which are described\n",
    "in: https://docs.astropy.org/en/stable/io/ascii/read.html\n"
   ]
  },
  {
   "cell_type": "code",
   "execution_count": 283,
   "id": "a9f2d11d",
   "metadata": {},
   "outputs": [],
   "source": [
    "f_in = ascii.read(\"AllRVs.dat\", format='basic', delimiter=' ', guess=False)"
   ]
  },
  {
   "cell_type": "code",
   "execution_count": 284,
   "id": "dcccb174",
   "metadata": {},
   "outputs": [
    {
     "data": {
      "text/html": [
       "<div><i>Table length=661</i>\n",
       "<table id=\"table139803369503712\" class=\"table-striped table-bordered table-condensed\">\n",
       "<thead><tr><th>name</th><th>cat</th><th>d_as</th><th>RV</th><th>eRV</th></tr></thead>\n",
       "<thead><tr><th>str19</th><th>str27</th><th>float64</th><th>float64</th><th>float64</th></tr></thead>\n",
       "<tr><td>J000000.00-000000.0</td><td>Dummy1</td><td>0.0</td><td>10.0</td><td>0.5</td></tr>\n",
       "<tr><td>J000000.00-000000.0</td><td>Dummy1</td><td>0.0</td><td>10.2</td><td>0.4</td></tr>\n",
       "<tr><td>J000000.00-000000.0</td><td>Dummy1</td><td>0.0</td><td>10.3</td><td>0.5</td></tr>\n",
       "<tr><td>J000000.00-000000.0</td><td>Dummy1</td><td>0.0</td><td>10.1</td><td>0.3</td></tr>\n",
       "<tr><td>J000000.00-000000.0</td><td>Dummy1</td><td>0.0</td><td>10.5</td><td>0.5</td></tr>\n",
       "<tr><td>J000000.00-000000.0</td><td>Dummy1</td><td>0.0</td><td>1000.0</td><td>0.5</td></tr>\n",
       "<tr><td>...</td><td>...</td><td>...</td><td>...</td><td>...</td></tr>\n",
       "<tr><td>J234326.88-344658.5</td><td>III/283/ravedr6</td><td>1.017</td><td>8.47</td><td>3.12</td></tr>\n",
       "<tr><td>J234326.88-344658.5</td><td>J/A+A/649/A6/table1c</td><td>0.91</td><td>8.529</td><td>3.114</td></tr>\n",
       "<tr><td>J234333.91-192802.8</td><td>LauraRV</td><td>0.0</td><td>-13.4</td><td>4.1</td></tr>\n",
       "<tr><td>J234347.83-125252.1</td><td>I/345/gaia2</td><td>0.474</td><td>3.61</td><td>2.41</td></tr>\n",
       "<tr><td>J234857.35+100929.3</td><td>I/345/gaia2</td><td>0.433</td><td>-5.98</td><td>0.88</td></tr>\n",
       "<tr><td>J234924.87+185926.7</td><td>LauraRV</td><td>0.0</td><td>6.1</td><td>1.2</td></tr>\n",
       "<tr><td>J234926.23+185912.4</td><td>I/345/gaia2</td><td>0.449</td><td>6.28</td><td>0.38</td></tr>\n",
       "</table></div>"
      ],
      "text/plain": [
       "<Table length=661>\n",
       "        name                cat            d_as     RV     eRV  \n",
       "       str19               str27         float64 float64 float64\n",
       "------------------- -------------------- ------- ------- -------\n",
       "J000000.00-000000.0               Dummy1     0.0    10.0     0.5\n",
       "J000000.00-000000.0               Dummy1     0.0    10.2     0.4\n",
       "J000000.00-000000.0               Dummy1     0.0    10.3     0.5\n",
       "J000000.00-000000.0               Dummy1     0.0    10.1     0.3\n",
       "J000000.00-000000.0               Dummy1     0.0    10.5     0.5\n",
       "J000000.00-000000.0               Dummy1     0.0  1000.0     0.5\n",
       "                ...                  ...     ...     ...     ...\n",
       "J234326.88-344658.5      III/283/ravedr6   1.017    8.47    3.12\n",
       "J234326.88-344658.5 J/A+A/649/A6/table1c    0.91   8.529   3.114\n",
       "J234333.91-192802.8              LauraRV     0.0   -13.4     4.1\n",
       "J234347.83-125252.1          I/345/gaia2   0.474    3.61    2.41\n",
       "J234857.35+100929.3          I/345/gaia2   0.433   -5.98    0.88\n",
       "J234924.87+185926.7              LauraRV     0.0     6.1     1.2\n",
       "J234926.23+185912.4          I/345/gaia2   0.449    6.28    0.38"
      ]
     },
     "execution_count": 284,
     "metadata": {},
     "output_type": "execute_result"
    }
   ],
   "source": [
    "f_in"
   ]
  },
  {
   "cell_type": "markdown",
   "id": "76db5bcf",
   "metadata": {},
   "source": [
    "Locate the indices for measurements without RV errors. "
   ]
  },
  {
   "cell_type": "code",
   "execution_count": 285,
   "id": "d96354ff",
   "metadata": {},
   "outputs": [],
   "source": [
    "ind = f_in['eRV'] < -99"
   ]
  },
  {
   "cell_type": "code",
   "execution_count": 286,
   "id": "f2541ec4",
   "metadata": {},
   "outputs": [
    {
     "data": {
      "text/plain": [
       "10"
      ]
     },
     "execution_count": 286,
     "metadata": {},
     "output_type": "execute_result"
    }
   ],
   "source": [
    "ind.sum()"
   ]
  },
  {
   "cell_type": "code",
   "execution_count": 287,
   "id": "f941dc1e",
   "metadata": {},
   "outputs": [
    {
     "data": {
      "text/html": [
       "<div><i>Table length=10</i>\n",
       "<table id=\"table139803369504288\" class=\"table-striped table-bordered table-condensed\">\n",
       "<thead><tr><th>name</th><th>cat</th><th>d_as</th><th>RV</th><th>eRV</th></tr></thead>\n",
       "<thead><tr><th>str19</th><th>str27</th><th>float64</th><th>float64</th><th>float64</th></tr></thead>\n",
       "<tr><td>J025154.17+222728.9</td><td>J/A+A/612/A49/tableb1</td><td>1.46</td><td>-18.849</td><td>-999.0</td></tr>\n",
       "<tr><td>J050827.31-210144.3</td><td>J/A+A/612/A49/tableb1</td><td>0.21</td><td>33.752</td><td>-999.0</td></tr>\n",
       "<tr><td>J062047.17-361948.2</td><td>J/MNRAS/447/1267/table1</td><td>0.11</td><td>16.5</td><td>-999.0</td></tr>\n",
       "<tr><td>J075830.92+153013.4</td><td>III/198/main</td><td>2.0</td><td>18.0</td><td>-999.0</td></tr>\n",
       "<tr><td>J112105.43-384516.6</td><td>J/MNRAS/494/2429/table1</td><td>0.74</td><td>10.85</td><td>-999.0</td></tr>\n",
       "<tr><td>J114728.37+664402.7</td><td>J/A+A/612/A49/tableb1</td><td>1.16</td><td>-9.543</td><td>-999.0</td></tr>\n",
       "<tr><td>J173353.07+165511.7</td><td>J/A+A/612/A49/tableb1</td><td>1.74</td><td>-22.484</td><td>-999.0</td></tr>\n",
       "<tr><td>J210708.43-113506.0</td><td>J/MNRAS/494/2429/table1</td><td>1.05</td><td>-9.515</td><td>-999.0</td></tr>\n",
       "<tr><td>J224500.20-331527.2</td><td>J/AJ/154/69/table4</td><td>2.03</td><td>2.0</td><td>-999.0</td></tr>\n",
       "<tr><td>J231246.53-504924.8</td><td>LauraRV</td><td>0.0</td><td>-22.6</td><td>-999.0</td></tr>\n",
       "</table></div>"
      ],
      "text/plain": [
       "<Table length=10>\n",
       "        name                  cat             d_as     RV     eRV  \n",
       "       str19                 str27          float64 float64 float64\n",
       "------------------- ----------------------- ------- ------- -------\n",
       "J025154.17+222728.9   J/A+A/612/A49/tableb1    1.46 -18.849  -999.0\n",
       "J050827.31-210144.3   J/A+A/612/A49/tableb1    0.21  33.752  -999.0\n",
       "J062047.17-361948.2 J/MNRAS/447/1267/table1    0.11    16.5  -999.0\n",
       "J075830.92+153013.4            III/198/main     2.0    18.0  -999.0\n",
       "J112105.43-384516.6 J/MNRAS/494/2429/table1    0.74   10.85  -999.0\n",
       "J114728.37+664402.7   J/A+A/612/A49/tableb1    1.16  -9.543  -999.0\n",
       "J173353.07+165511.7   J/A+A/612/A49/tableb1    1.74 -22.484  -999.0\n",
       "J210708.43-113506.0 J/MNRAS/494/2429/table1    1.05  -9.515  -999.0\n",
       "J224500.20-331527.2      J/AJ/154/69/table4    2.03     2.0  -999.0\n",
       "J231246.53-504924.8                 LauraRV     0.0   -22.6  -999.0"
      ]
     },
     "execution_count": 287,
     "metadata": {},
     "output_type": "execute_result"
    }
   ],
   "source": [
    "f_in[ind]"
   ]
  },
  {
   "cell_type": "markdown",
   "id": "42c598d8",
   "metadata": {},
   "source": [
    "In case of missing errors, use 2x the median error from all observations. In our example missing errors are marked as \"-999\". Please modify this line to make sense of your own dataset."
   ]
  },
  {
   "cell_type": "code",
   "execution_count": 288,
   "id": "cce51c93",
   "metadata": {},
   "outputs": [],
   "source": [
    "f_in[\"eRV\"][f_in[\"eRV\"] < -99] = 2.0 * np.median(f_in[\"eRV\"][~ind])"
   ]
  },
  {
   "cell_type": "code",
   "execution_count": 289,
   "id": "9f04f2cb",
   "metadata": {
    "scrolled": true
   },
   "outputs": [
    {
     "data": {
      "text/html": [
       "<div><i>Table length=661</i>\n",
       "<table id=\"table139803369503712\" class=\"table-striped table-bordered table-condensed\">\n",
       "<thead><tr><th>name</th><th>cat</th><th>d_as</th><th>RV</th><th>eRV</th></tr></thead>\n",
       "<thead><tr><th>str19</th><th>str27</th><th>float64</th><th>float64</th><th>float64</th></tr></thead>\n",
       "<tr><td>J000000.00-000000.0</td><td>Dummy1</td><td>0.0</td><td>10.0</td><td>0.5</td></tr>\n",
       "<tr><td>J000000.00-000000.0</td><td>Dummy1</td><td>0.0</td><td>10.2</td><td>0.4</td></tr>\n",
       "<tr><td>J000000.00-000000.0</td><td>Dummy1</td><td>0.0</td><td>10.3</td><td>0.5</td></tr>\n",
       "<tr><td>J000000.00-000000.0</td><td>Dummy1</td><td>0.0</td><td>10.1</td><td>0.3</td></tr>\n",
       "<tr><td>J000000.00-000000.0</td><td>Dummy1</td><td>0.0</td><td>10.5</td><td>0.5</td></tr>\n",
       "<tr><td>J000000.00-000000.0</td><td>Dummy1</td><td>0.0</td><td>1000.0</td><td>0.5</td></tr>\n",
       "<tr><td>...</td><td>...</td><td>...</td><td>...</td><td>...</td></tr>\n",
       "<tr><td>J234326.88-344658.5</td><td>III/283/ravedr6</td><td>1.017</td><td>8.47</td><td>3.12</td></tr>\n",
       "<tr><td>J234326.88-344658.5</td><td>J/A+A/649/A6/table1c</td><td>0.91</td><td>8.529</td><td>3.114</td></tr>\n",
       "<tr><td>J234333.91-192802.8</td><td>LauraRV</td><td>0.0</td><td>-13.4</td><td>4.1</td></tr>\n",
       "<tr><td>J234347.83-125252.1</td><td>I/345/gaia2</td><td>0.474</td><td>3.61</td><td>2.41</td></tr>\n",
       "<tr><td>J234857.35+100929.3</td><td>I/345/gaia2</td><td>0.433</td><td>-5.98</td><td>0.88</td></tr>\n",
       "<tr><td>J234924.87+185926.7</td><td>LauraRV</td><td>0.0</td><td>6.1</td><td>1.2</td></tr>\n",
       "<tr><td>J234926.23+185912.4</td><td>I/345/gaia2</td><td>0.449</td><td>6.28</td><td>0.38</td></tr>\n",
       "</table></div>"
      ],
      "text/plain": [
       "<Table length=661>\n",
       "        name                cat            d_as     RV     eRV  \n",
       "       str19               str27         float64 float64 float64\n",
       "------------------- -------------------- ------- ------- -------\n",
       "J000000.00-000000.0               Dummy1     0.0    10.0     0.5\n",
       "J000000.00-000000.0               Dummy1     0.0    10.2     0.4\n",
       "J000000.00-000000.0               Dummy1     0.0    10.3     0.5\n",
       "J000000.00-000000.0               Dummy1     0.0    10.1     0.3\n",
       "J000000.00-000000.0               Dummy1     0.0    10.5     0.5\n",
       "J000000.00-000000.0               Dummy1     0.0  1000.0     0.5\n",
       "                ...                  ...     ...     ...     ...\n",
       "J234326.88-344658.5      III/283/ravedr6   1.017    8.47    3.12\n",
       "J234326.88-344658.5 J/A+A/649/A6/table1c    0.91   8.529   3.114\n",
       "J234333.91-192802.8              LauraRV     0.0   -13.4     4.1\n",
       "J234347.83-125252.1          I/345/gaia2   0.474    3.61    2.41\n",
       "J234857.35+100929.3          I/345/gaia2   0.433   -5.98    0.88\n",
       "J234924.87+185926.7              LauraRV     0.0     6.1     1.2\n",
       "J234926.23+185912.4          I/345/gaia2   0.449    6.28    0.38"
      ]
     },
     "execution_count": 289,
     "metadata": {},
     "output_type": "execute_result"
    }
   ],
   "source": [
    "f_in"
   ]
  },
  {
   "cell_type": "markdown",
   "id": "8c8ec938",
   "metadata": {},
   "source": [
    "The maximum possible RV difference between two observations, $\\Delta RV_{\\rm max}$ was given earlier (point 4). One may wish to include columns in their input table of estimated mass and radius. In our case we are dealing mainly with  early K-type pre-main sequence stars: mass = $0.8M_{\\odot}$ and radius = $0.7R_{\\odot}$.\n"
   ]
  },
  {
   "cell_type": "code",
   "execution_count": 290,
   "id": "503b7eff",
   "metadata": {},
   "outputs": [],
   "source": [
    "mass, radius = 0.8, 0.7\n",
    "d_max = 437.*np.sqrt(mass)/np.sqrt(radius)"
   ]
  },
  {
   "cell_type": "markdown",
   "id": "8b10711a",
   "metadata": {},
   "source": [
    "Now we want to measure the differences in RV between each measurement to test for multiplicity. The condition is set as follows:\n",
    "\n",
    "$\\Delta RV > \\zeta\\times (\\sigma_{RV_{1}} + \\sigma_{RV_{2}})$, where $\\zeta = 3.0$ (but this can be altered).\n",
    "\n",
    "In practice, this is done with a function called \"test_mult\".\n",
    "\n",
    "First we create a square matrix of RV measurements where the n observations are repeated over n rows. A matrix of RV differences, $c$, is calculated by subtracting this matrix by its transpose.\n",
    "\n",
    "Next we remove any measurements that cause $\\Delta RV > \\Delta RV_{\\rm max}$ by locating their position in the numpy array (np.where) and deleting them (np.delete). Then the matrix $c$ is recalculated (without the outliers).\n",
    "\n",
    "The combined errors ($\\sigma_{RV_{1}} + \\sigma_{RV_{2}}$) are found in a similar way, where the n errors are repeated over n rows. The corresponding error matrix, $e_c$, is found by calculating the sum of the corresponding error matrix and its transpose.\n",
    "\n",
    "Since the matrix has repeating values (and zeroes along the diagonal), we extract the subset of matrix elements that have $c > 0$. If any of these elements satisfy $\\frac{c}{e_c} > \\zeta$, the star is flagged as a probable multiple, otherwise it is likely single."
   ]
  },
  {
   "cell_type": "code",
   "execution_count": 362,
   "id": "5c7af073",
   "metadata": {},
   "outputs": [],
   "source": [
    "def test_mult(trv, erv):\n",
    "    c = trv[:, None] - trv[None, :]\n",
    "    ee = c > d_max\n",
    "    x = np.array(np.where(ee))[0]\n",
    "    if len(x) > 0:\n",
    "        trv = np.delete(trv, x[0], 0)\n",
    "        erv = np.delete(erv, x[0], 0)\n",
    "    c = trv[:, None] - trv[None, :]\n",
    "    ec = np.abs(erv[:, None] + erv[None, :])\n",
    "    ratio = c / ec\n",
    "    ind = (c > 0)\n",
    "    return (ratio[ind] > 3).sum(), len(ind)"
   ]
  },
  {
   "cell_type": "markdown",
   "id": "9a2ba8e0",
   "metadata": {},
   "source": [
    "Group together RV measurements by using the group_by function in astropy tables."
   ]
  },
  {
   "cell_type": "code",
   "execution_count": 369,
   "id": "45f2d2a1",
   "metadata": {},
   "outputs": [
    {
     "data": {
      "text/html": [
       "<div><i>Table length=661</i>\n",
       "<table id=\"table139803373163280\" class=\"table-striped table-bordered table-condensed\">\n",
       "<thead><tr><th>name</th><th>cat</th><th>d_as</th><th>RV</th><th>eRV</th></tr></thead>\n",
       "<thead><tr><th>str19</th><th>str27</th><th>float64</th><th>float64</th><th>float64</th></tr></thead>\n",
       "<tr><td>J000000.00-000000.0</td><td>Dummy1</td><td>0.0</td><td>10.0</td><td>0.5</td></tr>\n",
       "<tr><td>J000000.00-000000.0</td><td>Dummy1</td><td>0.0</td><td>10.2</td><td>0.4</td></tr>\n",
       "<tr><td>J000000.00-000000.0</td><td>Dummy1</td><td>0.0</td><td>10.3</td><td>0.5</td></tr>\n",
       "<tr><td>J000000.00-000000.0</td><td>Dummy1</td><td>0.0</td><td>10.1</td><td>0.3</td></tr>\n",
       "<tr><td>J000000.00-000000.0</td><td>Dummy1</td><td>0.0</td><td>10.5</td><td>0.5</td></tr>\n",
       "<tr><td>J000000.00-000000.0</td><td>Dummy1</td><td>0.0</td><td>1000.0</td><td>0.5</td></tr>\n",
       "<tr><td>...</td><td>...</td><td>...</td><td>...</td><td>...</td></tr>\n",
       "<tr><td>J234326.88-344658.5</td><td>III/283/ravedr6</td><td>1.017</td><td>8.47</td><td>3.12</td></tr>\n",
       "<tr><td>J234326.88-344658.5</td><td>J/A+A/649/A6/table1c</td><td>0.91</td><td>8.529</td><td>3.114</td></tr>\n",
       "<tr><td>J234333.91-192802.8</td><td>LauraRV</td><td>0.0</td><td>-13.4</td><td>4.1</td></tr>\n",
       "<tr><td>J234347.83-125252.1</td><td>I/345/gaia2</td><td>0.474</td><td>3.61</td><td>2.41</td></tr>\n",
       "<tr><td>J234857.35+100929.3</td><td>I/345/gaia2</td><td>0.433</td><td>-5.98</td><td>0.88</td></tr>\n",
       "<tr><td>J234924.87+185926.7</td><td>LauraRV</td><td>0.0</td><td>6.1</td><td>1.2</td></tr>\n",
       "<tr><td>J234926.23+185912.4</td><td>I/345/gaia2</td><td>0.449</td><td>6.28</td><td>0.38</td></tr>\n",
       "</table></div>"
      ],
      "text/plain": [
       "<Table length=661>\n",
       "        name                cat            d_as     RV     eRV  \n",
       "       str19               str27         float64 float64 float64\n",
       "------------------- -------------------- ------- ------- -------\n",
       "J000000.00-000000.0               Dummy1     0.0    10.0     0.5\n",
       "J000000.00-000000.0               Dummy1     0.0    10.2     0.4\n",
       "J000000.00-000000.0               Dummy1     0.0    10.3     0.5\n",
       "J000000.00-000000.0               Dummy1     0.0    10.1     0.3\n",
       "J000000.00-000000.0               Dummy1     0.0    10.5     0.5\n",
       "J000000.00-000000.0               Dummy1     0.0  1000.0     0.5\n",
       "                ...                  ...     ...     ...     ...\n",
       "J234326.88-344658.5      III/283/ravedr6   1.017    8.47    3.12\n",
       "J234326.88-344658.5 J/A+A/649/A6/table1c    0.91   8.529   3.114\n",
       "J234333.91-192802.8              LauraRV     0.0   -13.4     4.1\n",
       "J234347.83-125252.1          I/345/gaia2   0.474    3.61    2.41\n",
       "J234857.35+100929.3          I/345/gaia2   0.433   -5.98    0.88\n",
       "J234924.87+185926.7              LauraRV     0.0     6.1     1.2\n",
       "J234926.23+185912.4          I/345/gaia2   0.449    6.28    0.38"
      ]
     },
     "execution_count": 369,
     "metadata": {},
     "output_type": "execute_result"
    }
   ],
   "source": [
    "obs_by_name = f_in.group_by('name')\n",
    "obs_by_name"
   ]
  },
  {
   "cell_type": "markdown",
   "id": "2db6a978",
   "metadata": {},
   "source": [
    "Create a results table for each unique star entry and print the multiplicity status returned from the test_mult function. Here \"n_comp\", \"n_mult\" and \"ismult\" refer to the number of observations used, the number of times a binary was flagged when comparing each measurement and the multiplicity status."
   ]
  },
  {
   "cell_type": "code",
   "execution_count": 374,
   "id": "4cfeb2b3",
   "metadata": {},
   "outputs": [],
   "source": [
    "results = obs_by_name.groups.keys\n",
    "x = [test_mult(t['RV'], t['eRV']) for t in obs_by_name.groups]\n",
    "results['n_comp'] = [o[1] for o in x]\n",
    "results['n_mult'] = [o[0] for o in x]\n",
    "results['ismult'] = ['yes' if n > 0 else 'no' for n in results['n_mult']]"
   ]
  },
  {
   "cell_type": "code",
   "execution_count": 375,
   "id": "dfb4ae07",
   "metadata": {},
   "outputs": [
    {
     "data": {
      "text/html": [
       "<div><i>Table length=341</i>\n",
       "<table id=\"table139803381866208\" class=\"table-striped table-bordered table-condensed\">\n",
       "<thead><tr><th>name</th><th>n_comp</th><th>n_mult</th><th>mult?</th><th>ismult</th></tr></thead>\n",
       "<thead><tr><th>str19</th><th>int64</th><th>int64</th><th>str3</th><th>str3</th></tr></thead>\n",
       "<tr><td>J000000.00-000000.0</td><td>5</td><td>0</td><td>no</td><td>no</td></tr>\n",
       "<tr><td>J000453.05-103220.0</td><td>1</td><td>0</td><td>no</td><td>no</td></tr>\n",
       "<tr><td>J001527.62-641455.2</td><td>4</td><td>0</td><td>no</td><td>no</td></tr>\n",
       "<tr><td>J001536.79-294601.2</td><td>5</td><td>3</td><td>yes</td><td>yes</td></tr>\n",
       "<tr><td>J001552.28-280749.4</td><td>2</td><td>0</td><td>no</td><td>no</td></tr>\n",
       "<tr><td>J001555.65-613752.2</td><td>1</td><td>0</td><td>no</td><td>no</td></tr>\n",
       "<tr><td>...</td><td>...</td><td>...</td><td>...</td><td>...</td></tr>\n",
       "<tr><td>J234243.45-622457.1</td><td>1</td><td>0</td><td>no</td><td>no</td></tr>\n",
       "<tr><td>J234326.88-344658.5</td><td>2</td><td>0</td><td>no</td><td>no</td></tr>\n",
       "<tr><td>J234333.91-192802.8</td><td>1</td><td>0</td><td>no</td><td>no</td></tr>\n",
       "<tr><td>J234347.83-125252.1</td><td>1</td><td>0</td><td>no</td><td>no</td></tr>\n",
       "<tr><td>J234857.35+100929.3</td><td>1</td><td>0</td><td>no</td><td>no</td></tr>\n",
       "<tr><td>J234924.87+185926.7</td><td>1</td><td>0</td><td>no</td><td>no</td></tr>\n",
       "<tr><td>J234926.23+185912.4</td><td>1</td><td>0</td><td>no</td><td>no</td></tr>\n",
       "</table></div>"
      ],
      "text/plain": [
       "<Table length=341>\n",
       "        name        n_comp n_mult mult? ismult\n",
       "       str19        int64  int64   str3  str3 \n",
       "------------------- ------ ------ ----- ------\n",
       "J000000.00-000000.0      5      0    no     no\n",
       "J000453.05-103220.0      1      0    no     no\n",
       "J001527.62-641455.2      4      0    no     no\n",
       "J001536.79-294601.2      5      3   yes    yes\n",
       "J001552.28-280749.4      2      0    no     no\n",
       "J001555.65-613752.2      1      0    no     no\n",
       "                ...    ...    ...   ...    ...\n",
       "J234243.45-622457.1      1      0    no     no\n",
       "J234326.88-344658.5      2      0    no     no\n",
       "J234333.91-192802.8      1      0    no     no\n",
       "J234347.83-125252.1      1      0    no     no\n",
       "J234857.35+100929.3      1      0    no     no\n",
       "J234924.87+185926.7      1      0    no     no\n",
       "J234926.23+185912.4      1      0    no     no"
      ]
     },
     "execution_count": 375,
     "metadata": {},
     "output_type": "execute_result"
    }
   ],
   "source": [
    "results"
   ]
  },
  {
   "cell_type": "markdown",
   "id": "913cfcec",
   "metadata": {},
   "source": [
    "Next, define a function named \"selectrv\" to calculate the final RV and error.\n",
    "\n",
    "Firstly, remove any stars that cause $\\Delta RV > \\Delta RV_{\\rm max}$, then measure the final RV (and error) in the following way:\n",
    "\n",
    "1. If the standard deviation in the error bars is less than the standard deviation in the measurements, then take the inverse weighted mean, using the square of the error bars as weights.\n",
    "2. Otherwise, adopt the final RV as the value corresponding to the lowest error bar.\n"
   ]
  },
  {
   "cell_type": "code",
   "execution_count": 377,
   "id": "dc2d2426",
   "metadata": {},
   "outputs": [],
   "source": [
    "def selectrv(trv, erv):\n",
    "    c = trv[:, None] - trv[None, :]\n",
    "    ee = c > d_max\n",
    "    x = np.array(np.where(ee))[0]\n",
    "    if len(x) > 0:\n",
    "        trv = np.delete(trv, x[0], 0)\n",
    "        erv = np.delete(erv, x[0], 0)\n",
    "    if (trv.std() > erv.std()):\n",
    "        return np.average(trv, weights=erv**-2), np.sqrt(1./np.sum(erv**-2))\n",
    "    else:\n",
    "        return trv[np.argmin(erv)], erv[np.argmin(erv)]"
   ]
  },
  {
   "cell_type": "markdown",
   "id": "ed341809",
   "metadata": {},
   "source": [
    "Call the \"selectrv\" function for each set of RV observations and print to the results table."
   ]
  },
  {
   "cell_type": "code",
   "execution_count": 378,
   "id": "ccb120a3",
   "metadata": {},
   "outputs": [],
   "source": [
    "out = [selectrv(t['RV'], t['eRV']) for t in obs_by_name.groups]\n",
    "results['RV'] = [o[0] for o in out]\n",
    "results['eRV'] = [o[1] for o in out]"
   ]
  },
  {
   "cell_type": "markdown",
   "id": "5cdf836d",
   "metadata": {},
   "source": [
    "Format the results table so there are a sensible number of significant figures for the RV and eRV columns."
   ]
  },
  {
   "cell_type": "code",
   "execution_count": 379,
   "id": "2e633f9b",
   "metadata": {},
   "outputs": [
    {
     "data": {
      "text/html": [
       "<div><i>Table length=9</i>\n",
       "<table id=\"table139803373148144\" class=\"table-striped table-bordered table-condensed\">\n",
       "<thead><tr><th>name</th><th>n_comp</th><th>n_mult</th><th>mult?</th><th>ismult</th><th>RV</th><th>eRV</th></tr></thead>\n",
       "<thead><tr><th>str19</th><th>int64</th><th>int64</th><th>str3</th><th>str3</th><th>float64</th><th>float64</th></tr></thead>\n",
       "<tr><td>J000000.00-000000.0</td><td>5</td><td>0</td><td>no</td><td>no</td><td>10.19</td><td>0.18</td></tr>\n",
       "<tr><td>J000453.05-103220.0</td><td>1</td><td>0</td><td>no</td><td>no</td><td>7.70</td><td>13.40</td></tr>\n",
       "<tr><td>J001527.62-641455.2</td><td>4</td><td>0</td><td>no</td><td>no</td><td>6.70</td><td>0.30</td></tr>\n",
       "<tr><td>J001536.79-294601.2</td><td>5</td><td>3</td><td>yes</td><td>yes</td><td>0.42</td><td>0.61</td></tr>\n",
       "<tr><td>J001552.28-280749.4</td><td>2</td><td>0</td><td>no</td><td>no</td><td>0.25</td><td>0.62</td></tr>\n",
       "<tr><td>J001555.65-613752.2</td><td>1</td><td>0</td><td>no</td><td>no</td><td>19.90</td><td>0.70</td></tr>\n",
       "<tr><td>J001709.96+185711.8</td><td>2</td><td>0</td><td>no</td><td>no</td><td>32.98</td><td>0.59</td></tr>\n",
       "<tr><td>J001723.69-664512.4</td><td>5</td><td>0</td><td>no</td><td>no</td><td>10.70</td><td>0.19</td></tr>\n",
       "<tr><td>J002101.27-134230.7</td><td>1</td><td>0</td><td>no</td><td>no</td><td>1.25</td><td>0.81</td></tr>\n",
       "</table></div>"
      ],
      "text/plain": [
       "<Table length=9>\n",
       "        name        n_comp n_mult mult? ismult    RV     eRV  \n",
       "       str19        int64  int64   str3  str3  float64 float64\n",
       "------------------- ------ ------ ----- ------ ------- -------\n",
       "J000000.00-000000.0      5      0    no     no   10.19    0.18\n",
       "J000453.05-103220.0      1      0    no     no    7.70   13.40\n",
       "J001527.62-641455.2      4      0    no     no    6.70    0.30\n",
       "J001536.79-294601.2      5      3   yes    yes    0.42    0.61\n",
       "J001552.28-280749.4      2      0    no     no    0.25    0.62\n",
       "J001555.65-613752.2      1      0    no     no   19.90    0.70\n",
       "J001709.96+185711.8      2      0    no     no   32.98    0.59\n",
       "J001723.69-664512.4      5      0    no     no   10.70    0.19\n",
       "J002101.27-134230.7      1      0    no     no    1.25    0.81"
      ]
     },
     "execution_count": 379,
     "metadata": {},
     "output_type": "execute_result"
    }
   ],
   "source": [
    "results['RV'].format = '{:.2f}'\n",
    "results['eRV'].format = '{:.2f}'\n",
    "results[0:9]"
   ]
  },
  {
   "cell_type": "code",
   "execution_count": 391,
   "id": "7897e589",
   "metadata": {},
   "outputs": [
    {
     "data": {
      "image/png": "[encoded data removed]",
      "text/plain": [
       "<Figure size 432x288 with 1 Axes>"
      ]
     },
     "metadata": {
      "needs_background": "light"
     },
     "output_type": "display_data"
    }
   ],
   "source": [
    "plt.hist(results['RV'], bins=np.arange(-1000,1000,5))\n",
    "plt.show()"
   ]
  }
 ],
 "metadata": {
  "kernelspec": {
   "display_name": "Python 3 (ipykernel)",
   "language": "python",
   "name": "python3"
  },
  "language_info": {
   "codemirror_mode": {
    "name": "ipython",
    "version": 3
   },
   "file_extension": ".py",
   "mimetype": "text/x-python",
   "name": "python",
   "nbconvert_exporter": "python",
   "pygments_lexer": "ipython3",
   "version": "3.9.7"
  }
 },
 "nbformat": 4,
 "nbformat_minor": 5
}
